{
    "cells": [
        {
            "cell_type": "markdown",
            "metadata": {},
            "source": [
                "# AQI Prediction Model"
            ]
        },
        {
            "cell_type": "code",
            "execution_count": null,
            "metadata": {},
            "outputs": [],
            "source": [
                "import pandas as pd",
                "import numpy as np",
                "import matplotlib.pyplot as plt",
                "import seaborn as sns",
                "from sklearn.model_selection import train_test_split",
                "from sklearn.preprocessing import StandardScaler",
                "from sklearn.ensemble import RandomForestRegressor",
                "from sklearn.metrics import mean_absolute_error, r2_score",
                "import warnings",
                "warnings.filterwarnings('ignore')"
            ]
        },
        {
            "cell_type": "code",
            "execution_count": null,
            "metadata": {},
            "outputs": [],
            "source": [
                "df = pd.read_csv('air_quality_data.csv')",
                "df['Date'] = pd.to_datetime(df['Date'])",
                "df.dropna(subset=['AQI'], inplace=True)",
                "df.fillna(df.median(numeric_only=True), inplace=True)",
                "df.drop(columns=['AQI_Category'], errors='ignore', inplace=True)",
                "non_numeric_cols = df.select_dtypes(exclude=['number']).columns",
                "df.drop(columns=non_numeric_cols, errors='ignore', inplace=True)"
            ]
        },
        {
            "cell_type": "code",
            "execution_count": null,
            "metadata": {},
            "outputs": [],
            "source": [
                "plt.figure(figsize=(10,6))",
                "sns.heatmap(df.corr(), annot=True, cmap='coolwarm', linewidths=0.5)",
                "plt.title('Correlation Heatmap of AQI Data')",
                "plt.show()"
            ]
        },
        {
            "cell_type": "code",
            "execution_count": null,
            "metadata": {},
            "outputs": [],
            "source": [
                "X = df.drop(columns=['AQI'], errors='ignore')",
                "y = df['AQI']",
                "X_train, X_test, y_train, y_test = train_test_split(X, y, test_size=0.2, random_state=42)",
                "scaler = StandardScaler()",
                "X_train_scaled = scaler.fit_transform(X_train)",
                "X_test_scaled = scaler.transform(X_test)",
                "model = RandomForestRegressor(n_estimators=100, random_state=42)",
                "model.fit(X_train_scaled, y_train)",
                "y_pred = model.predict(X_test_scaled)",
                "print('Mean Absolute Error:', mean_absolute_error(y_test, y_pred))",
                "print('R-squared Score:', r2_score(y_test, y_pred))"
            ]
        }
    ],
    "metadata": {
        "kernelspec": {
            "display_name": "Python 3",
            "language": "python",
            "name": "python3"
        },
        "language_info": {
            "codemirror_mode": {
                "name": "ipython",
                "version": 3
            },
            "file_extension": ".py",
            "mimetype": "text/x-python",
            "name": "python",
            "nbconvert_exporter": "python",
            "pygments_lexer": "ipython3",
            "version": "3.8.10"
        }
    },
    "nbformat": 4,
    "nbformat_minor": 4
}